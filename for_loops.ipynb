{
 "cells": [
  {
   "cell_type": "markdown",
   "metadata": {},
   "source": [
    "- Use the `break` statement sparingly. It can make loops less predictable and harder to understand.\n",
    "- Use the `continue` statement when you need to skip over part of a loop for a certain condition.\n",
    "- Use the `pass` statement as a placeholder for future code. It reminds you or indicates to others that a piece of code is intentionally left blank at the moment."
   ]
  },
  {
   "cell_type": "markdown",
   "metadata": {},
   "source": [
    "The general form of a comprehension is:\n",
    "\n",
    "- For lists: `[expression for item in iterable]`\n",
    "- For sets: `{expression for item in iterable}`\n",
    "- For dictionaries: `{key_expression: value_expression for item in iterable}`\n",
    "\n",
    "Exp.:\n"
   ]
  },
  {
   "cell_type": "code",
   "execution_count": 11,
   "metadata": {},
   "outputs": [],
   "source": [
    "products = [\n",
    "    {\"name\": \"Laptop\", \"category\": \"Electronics\", \"price\": 999.99},\n",
    "    {\"name\": \"Smartphone\", \"category\": \"Electronics\", \"price\": 699.99},\n",
    "    {\"name\": \"Book: The Alchemist\", \"category\": \"Books\", \"price\": 14.99},\n",
    "    {\"name\": \"Book: Harry Potter\", \"category\": \"Books\", \"price\": 29.99},\n",
    "    {\"name\": \"Bluetooth Headphones\", \"category\": \"Electronics\", \"price\": 199.99},\n",
    "    {\"name\": \"Monitor\", \"category\": \"Electronics\", \"price\": 149.99},\n",
    "    {\"name\": \"Book: Python Programming\", \"category\": \"Books\", \"price\": 49.99},\n",
    "    {\"name\": \"Desk Lamp\", \"category\": \"Furniture\", \"price\": 24.99},\n",
    "    {\"name\": \"Mousepad\", \"category\": \"Accessories\", \"price\": 5.99},\n",
    "    {\"name\": \"Stylus Pen\", \"category\": \"Accessories\", \"price\": 12.99},\n",
    "]"
   ]
  },
  {
   "cell_type": "code",
   "execution_count": 4,
   "metadata": {},
   "outputs": [
    {
     "name": "stdout",
     "output_type": "stream",
     "text": [
      "[]\n"
     ]
    }
   ],
   "source": [
    "\n",
    "# 1. Generate a list of product names that are in the category \"Electronics\".\n",
    "electronic_items = [product[\"name\"] for product in products if product[\"category\"] == \"Electronics\"]\n",
    "print(electronic_items)"
   ]
  },
  {
   "cell_type": "code",
   "execution_count": 6,
   "metadata": {},
   "outputs": [
    {
     "name": "stdout",
     "output_type": "stream",
     "text": [
      "{'Laptop': 999.99, 'Smartphone': 699.99, 'Bluetooth Headphones': 199.99, 'Monitor': 149.99}\n"
     ]
    }
   ],
   "source": [
    "# 2. Create a dictionary that maps product names to their prices, but only for products that cost more than $50.\n",
    "lux_items = {product[\"name\"]: product[\"price\"] for product in products if product[\"price\"] > 50}\n",
    "print(lux_items)"
   ]
  },
  {
   "cell_type": "code",
   "execution_count": 12,
   "metadata": {},
   "outputs": [
    {
     "name": "stdout",
     "output_type": "stream",
     "text": [
      "31.656666666666666\n"
     ]
    }
   ],
   "source": [
    "# 3. Compute the average price of all the products in the \"Books\" category.\n",
    "books_prices = [product[\"price\"] for product in products if product[\"category\"] == \"Books\"]\n",
    "avrg = sum(books_prices) / len(books_prices) if books_prices else 0\n",
    "print(avrg)"
   ]
  },
  {
   "cell_type": "code",
   "execution_count": null,
   "metadata": {},
   "outputs": [],
   "source": []
  }
 ],
 "metadata": {
  "kernelspec": {
   "display_name": "ali-ml",
   "language": "python",
   "name": "python3"
  },
  "language_info": {
   "codemirror_mode": {
    "name": "ipython",
    "version": 3
   },
   "file_extension": ".py",
   "mimetype": "text/x-python",
   "name": "python",
   "nbconvert_exporter": "python",
   "pygments_lexer": "ipython3",
   "version": "3.10.12"
  }
 },
 "nbformat": 4,
 "nbformat_minor": 2
}
