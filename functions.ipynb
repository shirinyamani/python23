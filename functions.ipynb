{
 "cells": [
  {
   "cell_type": "code",
   "execution_count": 1,
   "metadata": {},
   "outputs": [],
   "source": [
    "def f(l=[]): #python goes and define a variable for itself in rhe memory for the finction life time\n",
    "    #basically it gotta be inmutable\n",
    "    l.append(\"#\")\n",
    "    print(l)\n"
   ]
  },
  {
   "cell_type": "code",
   "execution_count": 2,
   "metadata": {},
   "outputs": [
    {
     "name": "stdout",
     "output_type": "stream",
     "text": [
      "['#']\n"
     ]
    }
   ],
   "source": [
    "f()"
   ]
  },
  {
   "cell_type": "code",
   "execution_count": 3,
   "metadata": {},
   "outputs": [
    {
     "name": "stdout",
     "output_type": "stream",
     "text": [
      "['#', '#']\n"
     ]
    }
   ],
   "source": [
    "f()"
   ]
  },
  {
   "cell_type": "markdown",
   "metadata": {},
   "source": [
    "- ## `return` statement, returns a tuple most of the cases and they say the return of the function gotta be immutable!"
   ]
  },
  {
   "cell_type": "code",
   "execution_count": 15,
   "metadata": {},
   "outputs": [
    {
     "name": "stdout",
     "output_type": "stream",
     "text": [
      "<class 'tuple'>\n",
      "4.0\n"
     ]
    }
   ],
   "source": [
    "# *args like siahchale get everything inside itself.\n",
    "def avrg(*args): #gotta be iterable, type is tuple\n",
    "    print(type(args))\n",
    "    total = 0\n",
    "    for num in args:\n",
    "        total += num\n",
    "    return total / len(args)\n",
    "print(avrg(2,3,5,6))"
   ]
  },
  {
   "cell_type": "code",
   "execution_count": 16,
   "metadata": {},
   "outputs": [
    {
     "name": "stdout",
     "output_type": "stream",
     "text": [
      "<class 'tuple'>\n"
     ]
    },
    {
     "data": {
      "text/plain": [
       "4.8"
      ]
     },
     "execution_count": 16,
     "metadata": {},
     "output_type": "execute_result"
    }
   ],
   "source": [
    "my_num = [3,4,5,6,6]\n",
    "avrg(*my_num)\n"
   ]
  },
  {
   "cell_type": "code",
   "execution_count": 26,
   "metadata": {},
   "outputs": [],
   "source": [
    "def print_age(**kwargs): #dictionary pack/unpacking, good for key-word arguments\n",
    "    for name, age in kwargs.items():\n",
    "        print(f'{name} is {age} years old!')"
   ]
  },
  {
   "cell_type": "code",
   "execution_count": 27,
   "metadata": {},
   "outputs": [
    {
     "name": "stdout",
     "output_type": "stream",
     "text": [
      "ali is 2 years old!\n",
      "shirin is 20 years old!\n",
      "noosh is 54 years old!\n"
     ]
    }
   ],
   "source": [
    "print_age(ali=2, shirin=20, noosh=54)"
   ]
  },
  {
   "cell_type": "markdown",
   "metadata": {},
   "source": []
  },
  {
   "cell_type": "code",
   "execution_count": 31,
   "metadata": {},
   "outputs": [],
   "source": [
    "#or say input is dict\n",
    "d1 = {\n",
    "    'Reza': 2, \n",
    "    'Asal': 20, \n",
    "    'noosh': 54}\n",
    "\n",
    "d2 ={\n",
    "    'dian':54,\n",
    "    'Hashem':44\n",
    "}"
   ]
  },
  {
   "cell_type": "code",
   "execution_count": 32,
   "metadata": {},
   "outputs": [
    {
     "name": "stdout",
     "output_type": "stream",
     "text": [
      "Reza is 2 years old!\n",
      "Asal is 20 years old!\n",
      "noosh is 54 years old!\n",
      "dian is 54 years old!\n",
      "Hashem is 44 years old!\n"
     ]
    }
   ],
   "source": [
    "print_age(**d1, **d2)"
   ]
  },
  {
   "cell_type": "code",
   "execution_count": 33,
   "metadata": {},
   "outputs": [],
   "source": [
    "#merge 2 dictionaries\n",
    "d = {**d1, **d2}"
   ]
  },
  {
   "cell_type": "code",
   "execution_count": 34,
   "metadata": {},
   "outputs": [
    {
     "data": {
      "text/plain": [
       "{'Reza': 2, 'Asal': 20, 'noosh': 54, 'dian': 54, 'Hashem': 44}"
      ]
     },
     "execution_count": 34,
     "metadata": {},
     "output_type": "execute_result"
    }
   ],
   "source": [
    "d"
   ]
  },
  {
   "cell_type": "code",
   "execution_count": 35,
   "metadata": {},
   "outputs": [],
   "source": [
    "import sys"
   ]
  },
  {
   "cell_type": "code",
   "execution_count": 36,
   "metadata": {},
   "outputs": [
    {
     "data": {
      "text/plain": [
       "['/home/shirin/Desktop/personal/python23',\n",
       " '/home/shirin/anaconda3/envs/ali-ml/lib/python310.zip',\n",
       " '/home/shirin/anaconda3/envs/ali-ml/lib/python3.10',\n",
       " '/home/shirin/anaconda3/envs/ali-ml/lib/python3.10/lib-dynload',\n",
       " '',\n",
       " '/home/shirin/anaconda3/envs/ali-ml/lib/python3.10/site-packages']"
      ]
     },
     "execution_count": 36,
     "metadata": {},
     "output_type": "execute_result"
    }
   ],
   "source": [
    "sys.path"
   ]
  },
  {
   "cell_type": "code",
   "execution_count": null,
   "metadata": {},
   "outputs": [],
   "source": []
  }
 ],
 "metadata": {
  "kernelspec": {
   "display_name": "ali-ml",
   "language": "python",
   "name": "python3"
  },
  "language_info": {
   "codemirror_mode": {
    "name": "ipython",
    "version": 3
   },
   "file_extension": ".py",
   "mimetype": "text/x-python",
   "name": "python",
   "nbconvert_exporter": "python",
   "pygments_lexer": "ipython3",
   "version": "3.10.12"
  }
 },
 "nbformat": 4,
 "nbformat_minor": 2
}
